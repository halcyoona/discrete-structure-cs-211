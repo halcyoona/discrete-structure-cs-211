{
 "cells": [
  {
   "cell_type": "code",
   "execution_count": null,
   "metadata": {},
   "outputs": [],
   "source": []
  },
  {
   "cell_type": "code",
   "execution_count": null,
   "metadata": {},
   "outputs": [],
   "source": []
  },
  {
   "cell_type": "code",
   "execution_count": null,
   "metadata": {},
   "outputs": [],
   "source": []
  },
  {
   "cell_type": "code",
   "execution_count": 244,
   "metadata": {},
   "outputs": [],
   "source": [
    "class principle_of_resolution:\n",
    "    def __init__(self):\n",
    "        self.premiseList = []\n",
    "        self.clauseList = []\n",
    "        self.conclusion = ''\n",
    "        self.variables = []\n",
    "    \n",
    "    def __str__(self):\n",
    "        return str(str(self.premiseList)+ '\\n'+str(self.clauseList) +'\\n'+str(self.conclusion)+'\\n'+str(self.variables))\n",
    "    \n",
    "    \n",
    "    def display(self):\n",
    "        print(self.premiseList)\n",
    "        print(self.clauseList)\n",
    "        print(self.conclusion)\n",
    "        print(self.variables)\n",
    "    \n",
    "    \n",
    "    def premises(self):\n",
    "        print(\"Always use these alternatives for logical operators.\\n - for negation, \\n ^ for conjuction,\\n | for disjunction, \\n > for implies, \\n % for biconditional \")\n",
    "        print(\"Enter premises and conclusion you want \")\n",
    "        n = input()[:-1]                         #taking input\n",
    "        self.premiseList = n.split('.')          #getting premises into list form\n",
    "        self.conclusion = \"-(\" + self.premiseList[-1] + \")\"   #taking out conclusion from premises\n",
    "        del self.premiseList[-1]                 #delete the conclusion\n",
    "        \n",
    "    def clauses(self):\n",
    "        for i in self.premiseList:\n",
    "            prem = self.implies(i)\n",
    "            self.conjuction(prem)\n",
    "        \n",
    "            \n",
    "    def conjuction(self, prem):\n",
    "        if self.countingBracket(prem) != 0:\n",
    "             pre = self.solvingBrackets(prem, self.countingBracket(prem))\n",
    "        self.clauseList = prem.split('^')\n",
    "        self.conclusion()\n",
    "    \n",
    "    def implies(self, prem):\n",
    "        prem = '-' + prem.replace('>','|')\n",
    "        return prem\n",
    "\n",
    "    def countingBracket(self, prem):\n",
    "        count = 0\n",
    "        for i in prem:\n",
    "            if i == '(':\n",
    "                count += 1\n",
    "        return count\n",
    "    \n",
    "    def solvingBrackets(self, prem, count):\n",
    "        lst = ''\n",
    "        for i in range(count, 0, -1):\n",
    "            temp = i\n",
    "            newPrem = ''\n",
    "            for j in range(len(prem)):\n",
    "                if prem[j] == '(':\n",
    "                    temp -= 1\n",
    "                if temp  == 0:\n",
    "                    if prem[j-1] == '-':\n",
    "                            newPrem += \"-\"\n",
    "                    newPrem += prem[j]\n",
    "                    prePrem = newPrem\n",
    "                    if j == ')':\n",
    "                        if prem[j+1] == '>':\n",
    "                            if '-(' in newPrem:\n",
    "                                newPrem = del_char(newPrem, 0)\n",
    "                                newPrem = del_char(newPrem, 0)\n",
    "                                newPrem = del_char(newPrem,newPrem.index(')'))\n",
    "                                if \">\" in newPrem:\n",
    "                                    newPrem = self.implies(newPrem)\n",
    "                                newPrem += '|'\n",
    "                                newPrem += prem[j+2]\n",
    "                            elif '(' in newPrem:\n",
    "                                newPrem = '-' + newPrem\n",
    "                                newPrem = self.negation(newPrem)\n",
    "                                newPrem += '|'\n",
    "                                newPrem += prem[j+2]\n",
    "                            lst += newprem\n",
    "                        \n",
    "                        elif prem[j+1] == '^' or prem[j+1] == '|':\n",
    "                            if '-(' in newPrem:\n",
    "                                newPrem = self.negation(newPrem)\n",
    "                                newPrem += prem[j+1]\n",
    "                                newPrem += prem[j+2]\n",
    "                                newPrem = del_char(newPrem, 0)\n",
    "                                newPrem = del_char(newPrem, 0)\n",
    "                                newPrem = del_char(newPrem,newPrem.index(')'))\n",
    "                                \n",
    "                            elif '(' in newPrem:\n",
    "                                if \">\" in newPrem:\n",
    "                                    newPrem = self.implies(newPrem)\n",
    "                                newPrem += prem[j+1]\n",
    "                                newPrem += prem[j+2]\n",
    "                        else:\n",
    "                            if '-(' in newPrem:\n",
    "                                newPrem = self.negation(newPrem)\n",
    "                                newPrem += prem[j+1]\n",
    "                                newPrem += prem[j+2]\n",
    "                            elif '(' in newPrem:\n",
    "                                if \">\" in newPrem:\n",
    "                                    newPrem = self.implies(newPrem\n",
    "                        prem = prem.replace(prePrem, '')        \n",
    "                        lst = newprem + lst\n",
    "\n",
    "        return lst\n",
    "                                                           \n",
    "                                                           \n",
    "                                                           \n",
    "                                                           \n",
    "    def negation(self,prem):\n",
    "        prem = prem.replace('-', '',1)\n",
    "        if '>' in prem:\n",
    "           \n",
    "        \n",
    "            #applying p>q = -p|q \n",
    "            if prem[prem.index('(')+1] == '-':\n",
    "                prem = prem.replace('-', '',1)\n",
    "                print('he')\n",
    "            elif prem[prem.index('(')+1] != '-':\n",
    "                prem = self.insert_char(prem,prem.index('(')+1)\n",
    "            prem = prem.replace('(',\"\")\n",
    "            prem = prem.replace(')',\"\")\n",
    "            prem = prem.replace('>','|')\n",
    "            \n",
    "            \n",
    "            #applying demorgan Law\n",
    "            if prem[0] == '-':\n",
    "                prem = prem.replace('-', '',1)\n",
    "            elif prem[0] != '-':\n",
    "                prem = self.insert_char(prem,0)\n",
    "            prem = prem.replace('|','^')\n",
    "            print(prem)\n",
    "            if prem[(prem.index('^'))+1] == '-':\n",
    "                prem = self.del_char(prem, prem.index(\"^\")+1 )\n",
    "            elif prem[(prem.index('^')+1)] != '-':\n",
    "                prem = self.insert_char(prem,prem.index('^')+1)\n",
    "            return prem\n",
    "            \n",
    "        elif '^' in prem:\n",
    "            \n",
    "            #applying demorgan Law\n",
    "            if prem[(prem.index('(')+1)] == '-':\n",
    "                prem = prem.replace('-', '',1)\n",
    "            elif prem[prem.index('(')+1] != '-':\n",
    "                prem = self.insert_char(prem,prem.index('(')+1)\n",
    "            prem = prem.replace('(',\"\")\n",
    "            prem = prem.replace(')',\"\")\n",
    "            prem = prem.replace('^','|')\n",
    "            if prem[(prem.index('|'))+1] == '-':\n",
    "                prem = self.del_char(prem, prem.index(\"|\")+1 )\n",
    "            elif prem[prem.index('|')+1] != '-':\n",
    "                prem = self.insert_char(prem,prem.index('|')+1)\n",
    "            return prem\n",
    "        \n",
    "        elif '|' in prem:\n",
    "            #applying demorgan Law\n",
    "            if prem[prem.index('(')+1] == '-':\n",
    "                prem =prem.replace('-', '', 1)\n",
    "            elif prem[prem.index('(')+1] != '-':\n",
    "                prem = self.insert_char(prem,prem.index('(')+1)\n",
    "            prem =prem.replace('(',\"\")\n",
    "            prem =prem.replace(')',\"\")\n",
    "            prem =prem.replace('|','^')\n",
    "            if prem[(prem.index('^'))+1] == '-':\n",
    "                prem = self.del_char(prem, prem.index(\"^\")+1 )\n",
    "            elif prem[(prem.index('^')+1)] != '-':\n",
    "                prem = self.insert_char(prem,prem.index('^')+1)\n",
    "            return prem\n",
    "    \n",
    "    def insert_char(self,string, index, char = '-'):\n",
    "        return string[:index] + char + string[index:]\n",
    "    \n",
    "    \n",
    "    def del_char(self,string, index):\n",
    "        return string[:index] + string[index+1:]\n",
    "        \n",
    "            "
   ]
  },
  {
   "cell_type": "code",
   "execution_count": null,
   "metadata": {},
   "outputs": [],
   "source": [
    "obj = principle_of_resolution()"
   ]
  },
  {
   "cell_type": "code",
   "execution_count": null,
   "metadata": {},
   "outputs": [],
   "source": [
    "obj.premises()"
   ]
  },
  {
   "cell_type": "code",
   "execution_count": 243,
   "metadata": {},
   "outputs": [
    {
     "name": "stdout",
     "output_type": "stream",
     "text": [
      "[]\n",
      "[]\n",
      "\n",
      "[]\n"
     ]
    }
   ],
   "source": [
    "obj.display()"
   ]
  },
  {
   "cell_type": "code",
   "execution_count": 70,
   "metadata": {},
   "outputs": [
    {
     "name": "stdout",
     "output_type": "stream",
     "text": [
      "[]\n",
      "[]\n",
      "\n",
      "[]\n"
     ]
    }
   ],
   "source": [
    "obj.clauses()\n",
    "print(obj)"
   ]
  },
  {
   "cell_type": "code",
   "execution_count": 1,
   "metadata": {},
   "outputs": [
    {
     "data": {
      "text/plain": [
       "'andesha e hikmat dahlese yar pe khara soch rha ha \\nmahv e raqsa ha angan e yar ishq ka wajdan'"
      ]
     },
     "execution_count": 1,
     "metadata": {},
     "output_type": "execute_result"
    }
   ],
   "source": [
    "\"\"\"andesha e hikmat dahlese yar pe khara soch rha ha \n",
    "mahv e raqsa ha angan e yar mai ishq ka wajdan\"\"\""
   ]
  },
  {
   "cell_type": "code",
   "execution_count": null,
   "metadata": {},
   "outputs": [],
   "source": [
    "a = 1\n",
    "b = 1\n",
    "c = -2\n",
    "while sqrt(2):\n",
    "    print (\"hello\")\n",
    "    break\n",
    "    if a>b:\n",
    "        print('bhai guzara karo')"
   ]
  },
  {
   "cell_type": "code",
   "execution_count": 4,
   "metadata": {},
   "outputs": [],
   "source": [
    "digits = [1, 5, 4, 6, 7, 9]"
   ]
  },
  {
   "cell_type": "code",
   "execution_count": 5,
   "metadata": {},
   "outputs": [
    {
     "data": {
      "text/plain": [
       "[1, 5, 4, 6, 7]"
      ]
     },
     "execution_count": 5,
     "metadata": {},
     "output_type": "execute_result"
    }
   ],
   "source": [
    "digits[:-1] "
   ]
  },
  {
   "cell_type": "code",
   "execution_count": 6,
   "metadata": {},
   "outputs": [
    {
     "data": {
      "text/plain": [
       "[]"
      ]
     },
     "execution_count": 6,
     "metadata": {},
     "output_type": "execute_result"
    }
   ],
   "source": [
    "digits[-3:1] "
   ]
  },
  {
   "cell_type": "code",
   "execution_count": 267,
   "metadata": {},
   "outputs": [
    {
     "data": {
      "text/plain": [
       "'ad-ce'"
      ]
     },
     "execution_count": 267,
     "metadata": {},
     "output_type": "execute_result"
    }
   ],
   "source": [
    "var = '-'\n",
    "var += \"ab-ce\".replace('b', 'd')\n",
    "#var[var.index('-')+1:]\n",
    "var = var.replace('-','',1)\n",
    "var"
   ]
  },
  {
   "cell_type": "code",
   "execution_count": 269,
   "metadata": {},
   "outputs": [
    {
     "data": {
      "text/plain": [
       "'a-c'"
      ]
     },
     "execution_count": 269,
     "metadata": {},
     "output_type": "execute_result"
    }
   ],
   "source": [
    "var = obj.del_char(var, var.index('e'))\n",
    "var"
   ]
  },
  {
   "cell_type": "code",
   "execution_count": 263,
   "metadata": {},
   "outputs": [
    {
     "name": "stdout",
     "output_type": "stream",
     "text": [
      "hi\n"
     ]
    }
   ],
   "source": [
    "if '-(' in var:\n",
    "    print('Hello')\n",
    "else: print(\"hi\")"
   ]
  },
  {
   "cell_type": "code",
   "execution_count": 40,
   "metadata": {},
   "outputs": [
    {
     "data": {
      "text/plain": [
       "'^'"
      ]
     },
     "execution_count": 40,
     "metadata": {},
     "output_type": "execute_result"
    }
   ],
   "source": [
    "#ord('')\n",
    "chr(94)"
   ]
  },
  {
   "cell_type": "code",
   "execution_count": null,
   "metadata": {},
   "outputs": [],
   "source": []
  }
 ],
 "metadata": {
  "kernelspec": {
   "display_name": "Python 3",
   "language": "python",
   "name": "python3"
  },
  "language_info": {
   "codemirror_mode": {
    "name": "ipython",
    "version": 3
   },
   "file_extension": ".py",
   "mimetype": "text/x-python",
   "name": "python",
   "nbconvert_exporter": "python",
   "pygments_lexer": "ipython3",
   "version": "3.5.2"
  }
 },
 "nbformat": 4,
 "nbformat_minor": 2
}
